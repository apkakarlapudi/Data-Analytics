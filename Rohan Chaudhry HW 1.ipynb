{
 "cells": [
  {
   "cell_type": "markdown",
   "metadata": {},
   "source": [
    "# Assignment 1 : Decision Tress using `scikit-learn`\n",
    "\n",
    "Scikit-learn provides a range of supervised and unsupervised learning algorithms via a consistent interface in Python. In this assigment you'll explore how to train decision trees using the `scikit-learn` library. The scikit-learn documentation can be found [here](http://scikit-learn.org/stable/documentation.html).\n",
    "\n",
    "In this assignment we'll attempt to classify patients as either having or not having diabetic retinopathy. For this task we'll be using the Diabetic Retinopathy data set, which contains 1151 instances and 20 attributes (some categorical, some continuous). You can find additional details about the dataset [here](http://archive.ics.uci.edu/ml/datasets/Diabetic+Retinopathy+Debrecen+Data+Set)."
   ]
  },
  {
   "cell_type": "code",
   "execution_count": 103,
   "metadata": {},
   "outputs": [],
   "source": [
    "# Rohan Chaudhry rc43755 \n",
    "\n",
    "#You may add additional import if you want\n",
    "import warnings\n",
    "warnings.simplefilter(\"ignore\")\n",
    "import pandas as pd\n",
    "import numpy as np\n",
    "import sklearn as sk\n",
    "import matplotlib.pyplot as plt\n",
    "from sklearn.preprocessing import StandardScaler\n",
    "from sklearn.model_selection import train_test_split\n",
    "from sklearn.decomposition import PCA\n",
    "from sklearn import tree \n",
    "import time"
   ]
  },
  {
   "cell_type": "code",
   "execution_count": 104,
   "metadata": {},
   "outputs": [],
   "source": [
    "%matplotlib inline"
   ]
  },
  {
   "cell_type": "code",
   "execution_count": 105,
   "metadata": {},
   "outputs": [
    {
     "name": "stdout",
     "output_type": "stream",
     "text": [
      "(1151, 20)\n"
     ]
    },
    {
     "data": {
      "text/html": [
       "<div>\n",
       "<style scoped>\n",
       "    .dataframe tbody tr th:only-of-type {\n",
       "        vertical-align: middle;\n",
       "    }\n",
       "\n",
       "    .dataframe tbody tr th {\n",
       "        vertical-align: top;\n",
       "    }\n",
       "\n",
       "    .dataframe thead th {\n",
       "        text-align: right;\n",
       "    }\n",
       "</style>\n",
       "<table border=\"1\" class=\"dataframe\">\n",
       "  <thead>\n",
       "    <tr style=\"text-align: right;\">\n",
       "      <th></th>\n",
       "      <th>quality</th>\n",
       "      <th>prescreen</th>\n",
       "      <th>ma2</th>\n",
       "      <th>ma3</th>\n",
       "      <th>ma4</th>\n",
       "      <th>ma5</th>\n",
       "      <th>ma6</th>\n",
       "      <th>ma7</th>\n",
       "      <th>exudate8</th>\n",
       "      <th>exudate9</th>\n",
       "      <th>exudate10</th>\n",
       "      <th>exudate11</th>\n",
       "      <th>exudate12</th>\n",
       "      <th>exudate13</th>\n",
       "      <th>exudate14</th>\n",
       "      <th>exudate15</th>\n",
       "      <th>euDist</th>\n",
       "      <th>diameter</th>\n",
       "      <th>amfm_class</th>\n",
       "      <th>label</th>\n",
       "    </tr>\n",
       "  </thead>\n",
       "  <tbody>\n",
       "    <tr>\n",
       "      <th>0</th>\n",
       "      <td>1</td>\n",
       "      <td>1</td>\n",
       "      <td>22</td>\n",
       "      <td>22</td>\n",
       "      <td>22</td>\n",
       "      <td>19</td>\n",
       "      <td>18</td>\n",
       "      <td>14</td>\n",
       "      <td>49.895756</td>\n",
       "      <td>17.775994</td>\n",
       "      <td>5.270920</td>\n",
       "      <td>0.771761</td>\n",
       "      <td>0.018632</td>\n",
       "      <td>0.006864</td>\n",
       "      <td>0.003923</td>\n",
       "      <td>0.003923</td>\n",
       "      <td>0.486903</td>\n",
       "      <td>0.100025</td>\n",
       "      <td>1</td>\n",
       "      <td>0</td>\n",
       "    </tr>\n",
       "    <tr>\n",
       "      <th>1</th>\n",
       "      <td>1</td>\n",
       "      <td>1</td>\n",
       "      <td>24</td>\n",
       "      <td>24</td>\n",
       "      <td>22</td>\n",
       "      <td>18</td>\n",
       "      <td>16</td>\n",
       "      <td>13</td>\n",
       "      <td>57.709936</td>\n",
       "      <td>23.799994</td>\n",
       "      <td>3.325423</td>\n",
       "      <td>0.234185</td>\n",
       "      <td>0.003903</td>\n",
       "      <td>0.003903</td>\n",
       "      <td>0.003903</td>\n",
       "      <td>0.003903</td>\n",
       "      <td>0.520908</td>\n",
       "      <td>0.144414</td>\n",
       "      <td>0</td>\n",
       "      <td>0</td>\n",
       "    </tr>\n",
       "    <tr>\n",
       "      <th>2</th>\n",
       "      <td>1</td>\n",
       "      <td>1</td>\n",
       "      <td>62</td>\n",
       "      <td>60</td>\n",
       "      <td>59</td>\n",
       "      <td>54</td>\n",
       "      <td>47</td>\n",
       "      <td>33</td>\n",
       "      <td>55.831441</td>\n",
       "      <td>27.993933</td>\n",
       "      <td>12.687485</td>\n",
       "      <td>4.852282</td>\n",
       "      <td>1.393889</td>\n",
       "      <td>0.373252</td>\n",
       "      <td>0.041817</td>\n",
       "      <td>0.007744</td>\n",
       "      <td>0.530904</td>\n",
       "      <td>0.128548</td>\n",
       "      <td>0</td>\n",
       "      <td>1</td>\n",
       "    </tr>\n",
       "    <tr>\n",
       "      <th>3</th>\n",
       "      <td>1</td>\n",
       "      <td>1</td>\n",
       "      <td>55</td>\n",
       "      <td>53</td>\n",
       "      <td>53</td>\n",
       "      <td>50</td>\n",
       "      <td>43</td>\n",
       "      <td>31</td>\n",
       "      <td>40.467228</td>\n",
       "      <td>18.445954</td>\n",
       "      <td>9.118901</td>\n",
       "      <td>3.079428</td>\n",
       "      <td>0.840261</td>\n",
       "      <td>0.272434</td>\n",
       "      <td>0.007653</td>\n",
       "      <td>0.001531</td>\n",
       "      <td>0.483284</td>\n",
       "      <td>0.114790</td>\n",
       "      <td>0</td>\n",
       "      <td>0</td>\n",
       "    </tr>\n",
       "    <tr>\n",
       "      <th>4</th>\n",
       "      <td>1</td>\n",
       "      <td>1</td>\n",
       "      <td>44</td>\n",
       "      <td>44</td>\n",
       "      <td>44</td>\n",
       "      <td>41</td>\n",
       "      <td>39</td>\n",
       "      <td>27</td>\n",
       "      <td>18.026254</td>\n",
       "      <td>8.570709</td>\n",
       "      <td>0.410381</td>\n",
       "      <td>0.000000</td>\n",
       "      <td>0.000000</td>\n",
       "      <td>0.000000</td>\n",
       "      <td>0.000000</td>\n",
       "      <td>0.000000</td>\n",
       "      <td>0.475935</td>\n",
       "      <td>0.123572</td>\n",
       "      <td>0</td>\n",
       "      <td>1</td>\n",
       "    </tr>\n",
       "    <tr>\n",
       "      <th>5</th>\n",
       "      <td>1</td>\n",
       "      <td>1</td>\n",
       "      <td>44</td>\n",
       "      <td>43</td>\n",
       "      <td>41</td>\n",
       "      <td>41</td>\n",
       "      <td>37</td>\n",
       "      <td>29</td>\n",
       "      <td>28.356400</td>\n",
       "      <td>6.935636</td>\n",
       "      <td>2.305771</td>\n",
       "      <td>0.323724</td>\n",
       "      <td>0.000000</td>\n",
       "      <td>0.000000</td>\n",
       "      <td>0.000000</td>\n",
       "      <td>0.000000</td>\n",
       "      <td>0.502831</td>\n",
       "      <td>0.126741</td>\n",
       "      <td>0</td>\n",
       "      <td>1</td>\n",
       "    </tr>\n",
       "    <tr>\n",
       "      <th>6</th>\n",
       "      <td>1</td>\n",
       "      <td>0</td>\n",
       "      <td>29</td>\n",
       "      <td>29</td>\n",
       "      <td>29</td>\n",
       "      <td>27</td>\n",
       "      <td>25</td>\n",
       "      <td>16</td>\n",
       "      <td>15.448398</td>\n",
       "      <td>9.113819</td>\n",
       "      <td>1.633493</td>\n",
       "      <td>0.000000</td>\n",
       "      <td>0.000000</td>\n",
       "      <td>0.000000</td>\n",
       "      <td>0.000000</td>\n",
       "      <td>0.000000</td>\n",
       "      <td>0.541743</td>\n",
       "      <td>0.139575</td>\n",
       "      <td>0</td>\n",
       "      <td>1</td>\n",
       "    </tr>\n",
       "    <tr>\n",
       "      <th>7</th>\n",
       "      <td>1</td>\n",
       "      <td>1</td>\n",
       "      <td>6</td>\n",
       "      <td>6</td>\n",
       "      <td>6</td>\n",
       "      <td>6</td>\n",
       "      <td>2</td>\n",
       "      <td>1</td>\n",
       "      <td>20.679649</td>\n",
       "      <td>9.497786</td>\n",
       "      <td>1.223660</td>\n",
       "      <td>0.150382</td>\n",
       "      <td>0.000000</td>\n",
       "      <td>0.000000</td>\n",
       "      <td>0.000000</td>\n",
       "      <td>0.000000</td>\n",
       "      <td>0.576318</td>\n",
       "      <td>0.071071</td>\n",
       "      <td>1</td>\n",
       "      <td>0</td>\n",
       "    </tr>\n",
       "    <tr>\n",
       "      <th>8</th>\n",
       "      <td>1</td>\n",
       "      <td>1</td>\n",
       "      <td>22</td>\n",
       "      <td>21</td>\n",
       "      <td>18</td>\n",
       "      <td>15</td>\n",
       "      <td>13</td>\n",
       "      <td>10</td>\n",
       "      <td>66.691933</td>\n",
       "      <td>23.545543</td>\n",
       "      <td>6.151117</td>\n",
       "      <td>0.496372</td>\n",
       "      <td>0.000000</td>\n",
       "      <td>0.000000</td>\n",
       "      <td>0.000000</td>\n",
       "      <td>0.000000</td>\n",
       "      <td>0.500073</td>\n",
       "      <td>0.116793</td>\n",
       "      <td>0</td>\n",
       "      <td>1</td>\n",
       "    </tr>\n",
       "    <tr>\n",
       "      <th>9</th>\n",
       "      <td>1</td>\n",
       "      <td>1</td>\n",
       "      <td>79</td>\n",
       "      <td>75</td>\n",
       "      <td>73</td>\n",
       "      <td>71</td>\n",
       "      <td>64</td>\n",
       "      <td>47</td>\n",
       "      <td>22.141784</td>\n",
       "      <td>10.054384</td>\n",
       "      <td>0.874633</td>\n",
       "      <td>0.099780</td>\n",
       "      <td>0.023386</td>\n",
       "      <td>0.000000</td>\n",
       "      <td>0.000000</td>\n",
       "      <td>0.000000</td>\n",
       "      <td>0.560959</td>\n",
       "      <td>0.109134</td>\n",
       "      <td>0</td>\n",
       "      <td>1</td>\n",
       "    </tr>\n",
       "  </tbody>\n",
       "</table>\n",
       "</div>"
      ],
      "text/plain": [
       "   quality  prescreen  ma2  ma3  ma4  ma5  ma6  ma7   exudate8   exudate9  \\\n",
       "0        1          1   22   22   22   19   18   14  49.895756  17.775994   \n",
       "1        1          1   24   24   22   18   16   13  57.709936  23.799994   \n",
       "2        1          1   62   60   59   54   47   33  55.831441  27.993933   \n",
       "3        1          1   55   53   53   50   43   31  40.467228  18.445954   \n",
       "4        1          1   44   44   44   41   39   27  18.026254   8.570709   \n",
       "5        1          1   44   43   41   41   37   29  28.356400   6.935636   \n",
       "6        1          0   29   29   29   27   25   16  15.448398   9.113819   \n",
       "7        1          1    6    6    6    6    2    1  20.679649   9.497786   \n",
       "8        1          1   22   21   18   15   13   10  66.691933  23.545543   \n",
       "9        1          1   79   75   73   71   64   47  22.141784  10.054384   \n",
       "\n",
       "   exudate10  exudate11  exudate12  exudate13  exudate14  exudate15    euDist  \\\n",
       "0   5.270920   0.771761   0.018632   0.006864   0.003923   0.003923  0.486903   \n",
       "1   3.325423   0.234185   0.003903   0.003903   0.003903   0.003903  0.520908   \n",
       "2  12.687485   4.852282   1.393889   0.373252   0.041817   0.007744  0.530904   \n",
       "3   9.118901   3.079428   0.840261   0.272434   0.007653   0.001531  0.483284   \n",
       "4   0.410381   0.000000   0.000000   0.000000   0.000000   0.000000  0.475935   \n",
       "5   2.305771   0.323724   0.000000   0.000000   0.000000   0.000000  0.502831   \n",
       "6   1.633493   0.000000   0.000000   0.000000   0.000000   0.000000  0.541743   \n",
       "7   1.223660   0.150382   0.000000   0.000000   0.000000   0.000000  0.576318   \n",
       "8   6.151117   0.496372   0.000000   0.000000   0.000000   0.000000  0.500073   \n",
       "9   0.874633   0.099780   0.023386   0.000000   0.000000   0.000000  0.560959   \n",
       "\n",
       "   diameter  amfm_class  label  \n",
       "0  0.100025           1      0  \n",
       "1  0.144414           0      0  \n",
       "2  0.128548           0      1  \n",
       "3  0.114790           0      0  \n",
       "4  0.123572           0      1  \n",
       "5  0.126741           0      1  \n",
       "6  0.139575           0      1  \n",
       "7  0.071071           1      0  \n",
       "8  0.116793           0      1  \n",
       "9  0.109134           0      1  "
      ]
     },
     "execution_count": 105,
     "metadata": {},
     "output_type": "execute_result"
    }
   ],
   "source": [
    "# Read the data from csv file\n",
    "col_names = []\n",
    "for i in range(20):\n",
    "    if i == 0:\n",
    "        col_names.append('quality')\n",
    "    if i == 1:\n",
    "        col_names.append('prescreen')\n",
    "    if i >= 2 and i <= 7:\n",
    "        col_names.append('ma' + str(i))\n",
    "    if i >= 8 and i <= 15:\n",
    "        col_names.append('exudate' + str(i))\n",
    "    if i == 16:\n",
    "        col_names.append('euDist')\n",
    "    if i == 17:\n",
    "        col_names.append('diameter')\n",
    "    if i == 18:\n",
    "        col_names.append('amfm_class')\n",
    "    if i == 19:\n",
    "        col_names.append('label')\n",
    "\n",
    "data = pd.read_csv(\"messidor_features.txt\", names = col_names)\n",
    "print(data.shape)\n",
    "data.head(10)"
   ]
  },
  {
   "cell_type": "markdown",
   "metadata": {},
   "source": [
    "### 1. Data preprocessing  & dimensionality reduction with PCA"
   ]
  },
  {
   "cell_type": "markdown",
   "metadata": {},
   "source": [
    "Q1. Separate the feature columns from the class label column. You should end up with two separate data frames - one that contains all of the feature values and one that contains the class labels."
   ]
  },
  {
   "cell_type": "code",
   "execution_count": 106,
   "metadata": {},
   "outputs": [],
   "source": [
    "# Predict whether or not image contains DR \n",
    "# class label == what we want to solve for ... 19 \n",
    "# features --> 1-18; \n",
    "\n",
    "df = data # copy of the dataset \n",
    "features = df[['quality', 'prescreen','ma2','ma3','ma4','ma5','ma6','ma7','exudate8','exudate9','exudate10','exudate11','exudate12','exudate13','exudate14','exudate15','euDist','diameter','amfm_class']]\n",
    "classes = df[['label']]\n"
   ]
  },
  {
   "cell_type": "markdown",
   "metadata": {},
   "source": [
    "Q2. Use `sklearn.preprocessing.StandardScaler` to standardize the dataset’s features (mean = 0 and variance = 1). \n",
    "\n",
    "Only standardize the the features, not the class labels! This will be required for running the principal component analysis (PCA) dimensionality reduction later. Note that `StandardScaler` returns a numpy array."
   ]
  },
  {
   "cell_type": "code",
   "execution_count": 107,
   "metadata": {},
   "outputs": [
    {
     "name": "stdout",
     "output_type": "stream",
     "text": [
      "<class 'numpy.ndarray'>\n",
      "(1151, 19)\n",
      "[ 0.05905386  0.2982129  -0.6414863  -0.61878225 -0.57646257 -0.63002889\n",
      " -0.55111605 -0.47374452 -0.24291735 -0.24600298 -0.29696618 -0.2715091\n",
      " -0.21832427 -0.19440942 -0.20512449 -0.18616904 -1.29476283 -0.46865568\n",
      "  1.40504812]\n",
      "mean:  -2.8876256637559514e-17\n",
      "std:  1.0\n"
     ]
    }
   ],
   "source": [
    "#scaled_features = StandardScaler(features)\n",
    "scaled_features = features \n",
    "col_names = ['quality', 'prescreen','ma2','ma3','ma4','ma5','ma6','ma7','exudate8','exudate9','exudate10','exudate11','exudate12','exudate13','exudate14','exudate15','euDist','diameter','amfm_class']\n",
    "\n",
    "''' \n",
    "feats = scaled_features[col_names]\n",
    "scaler = StandardScaler().fit(feats.values)\n",
    "feats = scaler.transform(feats.values) \n",
    "#scaled_features = StandardScaler.fit_transform(features.values) \n",
    "scaled_features[col_names] = feats \n",
    "print(scaled_features)\n",
    "# type is <class 'pandas.core.frame.DataFrame'>\n",
    "'''\n",
    "\n",
    "scaled_features = StandardScaler().fit_transform(scaled_features)\n",
    "print(type(scaled_features))\n",
    "print(scaled_features.shape)\n",
    "print(scaled_features[0])\n",
    "print(\"mean: \", scaled_features.mean())\n",
    "print(\"std: \", scaled_features.std())\n",
    "\n"
   ]
  },
  {
   "cell_type": "markdown",
   "metadata": {},
   "source": [
    "Q3 . Split your dataset into training and test sets (80% - 20% split). Use `sklearn.model_selection.train_test_split` to help you in this task. You should be working with your standardized features from here forward. Display how many records are in the training set and how many are in the test set."
   ]
  },
  {
   "cell_type": "code",
   "execution_count": 108,
   "metadata": {},
   "outputs": [
    {
     "name": "stdout",
     "output_type": "stream",
     "text": [
      "<class 'numpy.ndarray'>\n",
      "X_train= (920, 19)  X_test= (231, 19)\n",
      "y_train= (920, 1)  y_test= (231, 1)\n",
      "\n",
      "\n",
      "\n",
      "\n"
     ]
    },
    {
     "data": {
      "text/plain": [
       "\"\\nprint('\\nTraining Set:')\\nprint('Training shape: ' + str(x_train.shape))\\nprint('Total number of rows: '+ str(x_train.shape[0]))\\nprint('Total number of records (num rows*num cols) = ' + str(x_train.shape[0]*x_train.shape[1]))\\nprint('\\n\\nTesting Set:')\\nprint('Testing shape: ' + str(x_test.shape)) \\nprint('Total number of rows: '+ str(x_test.shape[0]))\\nprint('Total number of records (num rows*num cols) = ' + str(x_test.shape[0]*x_test.shape[1]))\\n\""
      ]
     },
     "execution_count": 108,
     "metadata": {},
     "output_type": "execute_result"
    }
   ],
   "source": [
    "# 80% training, 20% testing \n",
    "#x_train, x_test = train_test_split(scaled_features,train_size=.8,test_size=.2)\n",
    "\n",
    "X_train, X_test, y_train, y_test = train_test_split(scaled_features, classes, test_size=0.20, random_state=None)\n",
    "\n",
    "print(type(x_train))\n",
    "\n",
    "print(\"X_train=\",X_train.shape, \" X_test=\", X_test.shape)\n",
    "print(\"y_train=\",y_train.shape, \" y_test=\", y_test.shape)\n",
    "\n",
    "\n",
    "\n",
    "\n",
    "print('\\n\\n\\n') \n",
    "'''\n",
    "print('\\nTraining Set:')\n",
    "print('Training shape: ' + str(x_train.shape))\n",
    "print('Total number of rows: '+ str(x_train.shape[0]))\n",
    "print('Total number of records (num rows*num cols) = ' + str(x_train.shape[0]*x_train.shape[1]))\n",
    "print('\\n\\nTesting Set:')\n",
    "print('Testing shape: ' + str(x_test.shape)) \n",
    "print('Total number of rows: '+ str(x_test.shape[0]))\n",
    "print('Total number of records (num rows*num cols) = ' + str(x_test.shape[0]*x_test.shape[1]))\n",
    "'''"
   ]
  },
  {
   "cell_type": "markdown",
   "metadata": {},
   "source": [
    "Q4. PCA is affected by the scale of the features that is why it is important to standardize the dataset first. The principle components generated by PCA are sensitive to the shape of the data in d-dimensional space. \n",
    "* Carry out a principal components analysis using `sklearn.decomposition.PCA` Note that you are fitting PCA on the **training set** only (NOT the test set).\n",
    "* Use the `pca.explained_variance_ratio_` field to determine how many principal components are needed so that 95% variance is retained. \n",
    "* Reduce the PCA-transformed-dataset to this number of columns and you'll use the resulting dataset for subsequent tasks.\n",
    "\n",
    "* Once the training set's dimensionality has been reduced with PCA, transform the **test set** to the principal component space that was created. (Do not fit a new PCA. Use the same one that was created with the training set.)"
   ]
  },
  {
   "cell_type": "code",
   "execution_count": 109,
   "metadata": {},
   "outputs": [
    {
     "name": "stdout",
     "output_type": "stream",
     "text": [
      "Variance in each PC:  [3.19566304e-01 2.61654065e-01 1.04690152e-01 6.57606662e-02\n",
      " 5.97959488e-02 4.91431913e-02 4.42156630e-02 3.83508996e-02\n",
      " 2.50749013e-02 1.22690101e-02 7.75748321e-03 5.86494281e-03\n",
      " 2.34904263e-03 1.23863260e-03 1.02588147e-03 8.31163424e-04\n",
      " 2.28062810e-04 1.22192105e-04 6.17984758e-05] \n",
      "\n",
      "Cumulative variance:  [0.3195663  0.58122037 0.68591052 0.75167119 0.81146714 0.86061033\n",
      " 0.90482599 0.94317689 0.96825179 0.9805208  0.98827828 0.99414323\n",
      " 0.99649227 0.9977309  0.99875678 0.99958795 0.99981601 0.9999382\n",
      " 1.        ] \n",
      "\n",
      "n_cols to keep: 9 \n",
      "\n",
      "(920, 9) (231, 9)\n",
      "\n",
      "\n",
      "\n",
      "\n",
      "\n",
      "\n"
     ]
    },
    {
     "data": {
      "text/plain": [
       "\"\\npca.fit(x_train)\\n\\n# PCA variance ratio \\nprint()\\nprint(pca.explained_variance_ratio_)  \\nprint(1+pca.n_components_)\\n\\n# reduce PCA set \\nnew = PCA(n_components=9)\\nmainComp = new.fit_transform(x_train) # main components used \\nmainDf = pd.DataFrame(data = mainComp, columns = ['Main1','Main2','Main3','Main4','Main5','Main6','Main7','Main8','Main9'])\\n#finalDf = pd.concat([mainDf, df[['target']]], axis =1)\\nprint(mainDf)\\n\""
      ]
     },
     "execution_count": 109,
     "metadata": {},
     "output_type": "execute_result"
    }
   ],
   "source": [
    "# PCA on training set \n",
    "# imported PCA at the very top \n",
    "\n",
    "# pca = PCA(n_components = 18)\n",
    "# pca = PCA(.95) # 95% accuracy # had originally \n",
    "\n",
    "\n",
    "pca = PCA()\n",
    "pca_data = pca.fit_transform(X_train)\n",
    "\n",
    "\n",
    "var_exp = pca.explained_variance_ratio_\n",
    "print(\"Variance in each PC: \", var_exp,'\\n')\n",
    "\n",
    "cum_var_exp = np.cumsum(var_exp)\n",
    "print(\"Cumulative variance: \", cum_var_exp,'\\n')\n",
    "\n",
    "n_cols = 1 + np.argmax(cum_var_exp > 0.95)\n",
    "print(\"n_cols to keep:\", n_cols,'\\n')\n",
    "\n",
    "#reduce training set to size\n",
    "X_train_pca = pca_data[:, :n_cols] # all rows, columns 0 to n_cols\n",
    "X_test_pca = pca.transform(X_test)[:, :n_cols] \n",
    "print (X_train_pca.shape, X_test_pca.shape) #they've both been reduced to 2 dimensions\n",
    "\n",
    "print('\\n'*5)\n",
    "\n",
    "# pca = PCA\n",
    "# pca = PCA(n_components = 'mle') # guesses number of features \n",
    "#x_train_pca = PCA(x_train)\n",
    "#print(x_train_pca)\n",
    "'''\n",
    "pca.fit(x_train)\n",
    "\n",
    "# PCA variance ratio \n",
    "print()\n",
    "print(pca.explained_variance_ratio_)  \n",
    "print(1+pca.n_components_)\n",
    "\n",
    "# reduce PCA set \n",
    "new = PCA(n_components=9)\n",
    "mainComp = new.fit_transform(x_train) # main components used \n",
    "mainDf = pd.DataFrame(data = mainComp, columns = ['Main1','Main2','Main3','Main4','Main5','Main6','Main7','Main8','Main9'])\n",
    "#finalDf = pd.concat([mainDf, df[['target']]], axis =1)\n",
    "print(mainDf)\n",
    "'''\n",
    "\n",
    "\n",
    "\n",
    "# set transform "
   ]
  },
  {
   "cell_type": "markdown",
   "metadata": {},
   "source": [
    "### 2. Training Decision Trees in `scikit-learn`"
   ]
  },
  {
   "cell_type": "markdown",
   "metadata": {},
   "source": [
    "Q5. Use `sklearn.tree.DecisionTreeClassifier` to fit a decision tree classifier on the training set. Use entropy as the split criterion. "
   ]
  },
  {
   "cell_type": "code",
   "execution_count": 110,
   "metadata": {
    "scrolled": true
   },
   "outputs": [],
   "source": [
    "clf = tree.DecisionTreeClassifier(criterion='entropy', max_depth=3)\n",
    "# Train it\n",
    "# clf = clf.fit(features, classes)\n",
    "# X_train, X_test, y_train, y_test\n",
    "# X_train_pca , X_train_pca \n",
    "\n",
    "#clf = clf.fit(X_train, y_train)\n",
    "clf = clf.fit(X_train_pca, y_train)\n",
    "\n",
    "# The trained tree is now stored in the variable 'clf'"
   ]
  },
  {
   "cell_type": "markdown",
   "metadata": {},
   "source": [
    "Q6. Now that the tree has been learned from the training data, we can run the test data through and predict classes for our test data. Use the `predict` method of `DecisionTreeClassifier` to classify the test data. Then use `sklearn.metrics.accuracy_score` to print out the accuracy of the classifier on the test set."
   ]
  },
  {
   "cell_type": "code",
   "execution_count": 111,
   "metadata": {},
   "outputs": [
    {
     "name": "stdout",
     "output_type": "stream",
     "text": [
      "Accuracy on test data is: 65.36796536796537\n"
     ]
    }
   ],
   "source": [
    "pred_Y = clf.predict(X_test_pca)\n",
    "#print(pred_Y)\n",
    "\n",
    "from sklearn.metrics import accuracy_score\n",
    "\n",
    "print('Accuracy on test data is:', (accuracy_score(y_test, pred_Y))*100)\n"
   ]
  },
  {
   "cell_type": "markdown",
   "metadata": {},
   "source": [
    "Q7. Note that the DecisionTree classifier has many parameters that can be set. Try tweaking parameters like split criterion, max_depth, min_impurity_decrease, min_samples_leaf, min_samples_split, etc. to see how they affect accuracy."
   ]
  },
  {
   "cell_type": "code",
   "execution_count": 112,
   "metadata": {},
   "outputs": [],
   "source": [
    "# your code goes here"
   ]
  },
  {
   "cell_type": "markdown",
   "metadata": {},
   "source": [
    "### 3. Using K-fold Cross Validation\n",
    "\n",
    "You have now built a decision tree and tested it's accuracy using the \"holdout\" method. But as discussed in class, this is not sufficient for estimating generalization accuracy. Instead, we should use Cross Validation to get a better estimate of accuracy. You will do that next."
   ]
  },
  {
   "cell_type": "markdown",
   "metadata": {},
   "source": [
    "Q7. Use `sklearn.model_selection.cross_val_score` to perform 10-fold cross validation on your decision tree. Report the accuracy of the model. For this step, revert back to using the data before it underwent PCA. So you want to use the standardized data that came out of Q2. "
   ]
  },
  {
   "cell_type": "code",
   "execution_count": 113,
   "metadata": {
    "scrolled": true
   },
   "outputs": [
    {
     "name": "stdout",
     "output_type": "stream",
     "text": [
      "Accuracy:  59.582363639165884\n"
     ]
    }
   ],
   "source": [
    "from sklearn.model_selection import cross_val_score\n",
    "#print(type(X_train))\n",
    "#print(type(y_train))\n",
    "''' \n",
    "#make numpy arrays \n",
    "X_train_vals = X_train.values\n",
    "y_train_vals = y_train.values\n",
    "#print(type(X_train_vals))\n",
    "\n",
    "print(scaled_features.shape)\n",
    "print(y_train.shape)\n",
    "''' \n",
    "\n",
    "#idk = cross_val_score(scaled_features,X_train_vals, y_train_vals,cv=10)\n",
    "# idk = cross_val_score(clf,scaled_features, y_train,cv=10)\n",
    "idk = cross_val_score(clf,X_train, y_train,cv=10)\n",
    "print(\"Accuracy: \", idk.mean()*100)"
   ]
  },
  {
   "cell_type": "markdown",
   "metadata": {},
   "source": [
    "Q8. Now we want to tune our model to use the best parameters to avoid overfitting to our training data. Grid search is an approach to parameter tuning that will methodically build and evaluate a model for each combination of algorithm parameters specified in a grid. \n",
    "* Use `sklearn.model_selection.GridSearchCV` to find the best `max_depth`, `max_features`, and `min_samples_leaf` for your tree. Use 'accuracy' for the scoring criteria.\n",
    "* Try the values [5,10,15,20] for `max_depth` and `min_samples_leaf`. Try [5,10,15] for `max_features`. \n",
    "* Use a 5-fold cross validation. \n",
    "* Print out the best value for each of the tested parameters.\n",
    "* Print out the accuracy of the model with these best values."
   ]
  },
  {
   "cell_type": "code",
   "execution_count": 114,
   "metadata": {},
   "outputs": [
    {
     "name": "stdout",
     "output_type": "stream",
     "text": [
      "{'max_depth': 5, 'max_features': 5, 'min_samples_leaf': 10}\n",
      "Accuracy: 65.07384882710686\n"
     ]
    }
   ],
   "source": [
    "from sklearn.model_selection import GridSearchCV\n",
    "\n",
    "# Try max_depth, min_samples_leaf values of 5,10,15,20\n",
    "# Try max_features values of 5,10,15\n",
    "params = {\"max_depth\": [5,10,15,20],\n",
    "          \"min_samples_leaf\": [5,10,15,20],\n",
    "          \"max_features\": [5,10,15]}\n",
    "\n",
    "\n",
    "# Create the GridSearchCV object:\n",
    "# Pass in our classifier (the decision tree), the parameters to test,\n",
    "# how many folds of CV we want, and what scoring metric to use\n",
    "grid_search = GridSearchCV(clf, params, cv=5, scoring='accuracy')\n",
    "\n",
    "# Kick it off... start training classifiers with the different max_depths specified\n",
    "# A 5-fold CV will be run for each max_depth and accuracy will be assesed for each max_depth\n",
    "grid_search.fit(features, classes)\n",
    "\n",
    "# What did it find as the best max_depth?\n",
    "print(grid_search.best_params_)\n",
    "# What was the accuracy at this best max_depth?\n",
    "print(\"Accuracy:\", grid_search.best_score_*100)\n"
   ]
  },
  {
   "cell_type": "markdown",
   "metadata": {},
   "source": [
    "Q9. To perform the nested cross-validation that we discussed in class, you'll now need to pass the `GridSearchCV` into a `cross_val_score`. \n",
    "\n",
    "What this does is: the `cross_val_score` splits the data in to train and test sets for the first fold, and it passes the train set into `GridSearchCV`. `GridSearchCV` then splits that set into train and validation sets for k number of folds (the inner CV loop). The hyper-parameters for which the average score over all inner iterations is best, is reported as the `best_params_`, `best_score_`, and `best_estimator_`(best decision tree). This best decision tree is then evaluated with the test set from the `cross_val_score` (the outer CV loop). And this whole thing is repeated for the remaining k folds of the `cross_val_score` (the outer CV loop). \n",
    "\n",
    "That is a lot of explanation for a very complex (but IMPORTANT) process, which can all be performed with a single line of code!\n",
    "\n",
    "Be patient for this one to run. The nested cross-validation loop can take some time. An asterisk [\\*] next to the cell indicates that it is still running.\n",
    "\n",
    "Print the accuracy of your tuned, cross-validated model. This is the official accuracy that you would report for your model."
   ]
  },
  {
   "cell_type": "code",
   "execution_count": 115,
   "metadata": {},
   "outputs": [
    {
     "name": "stdout",
     "output_type": "stream",
     "text": [
      "Accuracy: 63.59470191470845\n"
     ]
    }
   ],
   "source": [
    "nested_score = cross_val_score(grid_search, features, classes, cv=3)\n",
    "\n",
    "print(\"Accuracy:\", nested_score.mean()*100)"
   ]
  },
  {
   "cell_type": "markdown",
   "metadata": {},
   "source": [
    "Q10. Our accuracy rate isn't very good. We wouldn't want to use this model in the real world to actually diagnose patients because it is wrong about 40% of the time! What can we do to improve the accuracy of the model? Answer as a comment:"
   ]
  },
  {
   "cell_type": "code",
   "execution_count": 116,
   "metadata": {},
   "outputs": [
    {
     "data": {
      "text/plain": [
       "\"\\nPotential ways to improve the model's accuracy include: \\n- involving more data in the test/train sets \\n- scrubbing the data for outliers and ensuring a clean set \\n- feature transformation for all features into a normalized 0-1 scale\\n- improving our feature selection \\n\""
      ]
     },
     "execution_count": 116,
     "metadata": {},
     "output_type": "execute_result"
    }
   ],
   "source": [
    "'''\n",
    "Potential ways to improve the model's accuracy include: \n",
    "- involving more data in the test/train sets \n",
    "- scrubbing the data for outliers and ensuring a clean set \n",
    "- feature transformation for all features into a normalized 0-1 scale\n",
    "- improving our feature selection \n",
    "'''"
   ]
  }
 ],
 "metadata": {
  "kernelspec": {
   "display_name": "Python 3",
   "language": "python",
   "name": "python3"
  },
  "language_info": {
   "codemirror_mode": {
    "name": "ipython",
    "version": 3
   },
   "file_extension": ".py",
   "mimetype": "text/x-python",
   "name": "python",
   "nbconvert_exporter": "python",
   "pygments_lexer": "ipython3",
   "version": "3.7.1"
  }
 },
 "nbformat": 4,
 "nbformat_minor": 2
}
